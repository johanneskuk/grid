{
 "cells": [
  {
   "cell_type": "code",
   "execution_count": 13,
   "id": "da99b7ef-4798-4d0e-9daf-1b0bc8339518",
   "metadata": {},
   "outputs": [
    {
     "name": "stdout",
     "output_type": "stream",
     "text": [
      "The autoreload extension is already loaded. To reload it, use:\n",
      "  %reload_ext autoreload\n"
     ]
    }
   ],
   "source": [
    "%load_ext autoreload\n",
    "%autoreload 2"
   ]
  },
  {
   "cell_type": "code",
   "execution_count": 14,
   "id": "84a84c22-0a5f-4bbb-8f59-f8cf630ad83d",
   "metadata": {},
   "outputs": [],
   "source": [
    "from grid import GridFiller"
   ]
  },
  {
   "cell_type": "code",
   "execution_count": 15,
   "id": "476dede2-33b9-4eca-aa2b-6a7f6ea08e63",
   "metadata": {},
   "outputs": [
    {
     "name": "stdout",
     "output_type": "stream",
     "text": [
      "Using greedy method\n",
      "Achieved max number: 25\n",
      "\n",
      "The grid\n",
      " 1  0  0  8  0  0  9  0  0 16\n",
      " 0  0  0  0  0  0  0  0  0  0\n",
      " 0 23  0  0 22  0  0 17  0  0\n",
      " 2  0  0  7  0  0 10  0  0 15\n",
      " 0  0  0  0  0  0  0  0  0  0\n",
      " 0 24  0  0 21  0  0 18  0  0\n",
      " 3  0  0  6  0  0 11  0  0 14\n",
      " 0  0  0  0  0  0  0  0  0  0\n",
      " 0 25  0  0 20  0  0 19  0  0\n",
      " 4  0  0  5  0  0 12  0  0 13\n",
      "\n",
      "\n"
     ]
    }
   ],
   "source": [
    "grid_filler = GridFiller(grid_size=10)  # Create an instance of the GridFiller class with a 10x10 grid\n",
    "grid_filler.run(method=\"greedy\", row=0, col=0, depth_limit=9)"
   ]
  },
  {
   "cell_type": "code",
   "execution_count": 66,
   "id": "7d40156b-2480-419e-881f-f79ddb2d0dd2",
   "metadata": {},
   "outputs": [
    {
     "name": "stdout",
     "output_type": "stream",
     "text": [
      "Using random_greedy method\n",
      "Achieved max number: 40\n",
      "\n",
      "The grid\n",
      " 1 12 26  0  3 25 39  0  0 40\n",
      " 0 34 29  0 35 30  0 18  0  0\n",
      "27  0  2 11 23  0 10 24  0  0\n",
      " 0 13 36  0  4 19 38  0 20 17\n",
      " 0 33 28  0  9 31 22  8  0  0\n",
      " 0  0  0 14 37  0  5 16  0  0\n",
      " 0  0  0 32  0  0  0  0 21  0\n",
      " 0  0  0  0  6 15  0  7  0  0\n",
      " 0  0  0  0  0  0  0  0  0  0\n",
      " 0  0  0  0  0  0  0  0  0  0\n",
      "\n",
      "\n"
     ]
    }
   ],
   "source": [
    "grid_filler = GridFiller(grid_size=10)  # Create an instance of the GridFiller class with a 10x10 grid\n",
    "grid_filler.run(method=\"random_greedy\", row=0, col=0, depth_limit=10)"
   ]
  },
  {
   "cell_type": "code",
   "execution_count": 25,
   "id": "1a122867-476f-40d2-ba85-8e521388d48d",
   "metadata": {},
   "outputs": [
    {
     "name": "stdout",
     "output_type": "stream",
     "text": [
      "Using best_move method\n",
      "Using depth limit 9\n",
      "Achieved max number: 81\n",
      "\n",
      "The grid\n",
      " 1 40 61  8 39 68  9 48 69 16\n",
      "28  0  0 27  0  0 77  0  0 76\n",
      "60 23 32 55 22 33 54 17 79 49\n",
      " 2 41 62  7 38 67 10 47 70 15\n",
      "29  0  0 26  0  0 78  0  0 75\n",
      "59 24 31 56 21 34 53 18 80 50\n",
      " 3 42 63  6 37 66 11 46 71 14\n",
      "30  0  0 25  0  0 73  0  0 74\n",
      "58  0 36 57 20 35 52 19 81 51\n",
      " 4 43 64  5 44 65 12 45 72 13\n",
      "\n",
      "\n"
     ]
    }
   ],
   "source": [
    "grid_filler = GridFiller(grid_size=10)  # Create an instance of the GridFiller class with a 10x10 grid\n",
    "grid_filler.run(method=\"best_move\", row=0, col=0, depth_limit=9)"
   ]
  },
  {
   "cell_type": "code",
   "execution_count": 82,
   "id": "76437580-f0bc-4e60-a421-eb76a0c0a990",
   "metadata": {},
   "outputs": [
    {
     "name": "stderr",
     "output_type": "stream",
     "text": [
      "100%|██████████████████████████████| 1000000/1000000 [01:09<00:00, 14415.27it/s]"
     ]
    },
    {
     "name": "stdout",
     "output_type": "stream",
     "text": [
      "Best run filled 99 cells.\n",
      "Achieved max number: 99\n",
      "\n",
      "The grid\n",
      " 1 97  8 75 24  9 74 23 10 16\n",
      "35 48  3 99 49 21 60 50 20 59\n",
      "95 76 27 96  7 28 11 17 73 52\n",
      " 2 98 36 47 25 42 14 22 61 15\n",
      "34  0  4 29 12 18  6 51 19 58\n",
      "94 77 26 41 78 46 90 87 72 53\n",
      "68 30 37 81  5 43 13 55 62 85\n",
      "33 40 66 32 39 88 64 45 89 57\n",
      "93 80 69 92 79 70 91 86 71 54\n",
      "67 31 38 82 65 44 83 56 63 84\n",
      "\n",
      "\n"
     ]
    },
    {
     "name": "stderr",
     "output_type": "stream",
     "text": [
      "\n"
     ]
    }
   ],
   "source": [
    "grid_filler = GridFiller(grid_size=10)  # Create an instance of the GridFiller class with a 10x10 grid\n",
    "grid_filler.run_brute_force(1000000)"
   ]
  },
  {
   "cell_type": "code",
   "execution_count": null,
   "id": "a2fbff2f-b651-4e89-8706-3e0181589b3d",
   "metadata": {},
   "outputs": [],
   "source": []
  }
 ],
 "metadata": {
  "kernelspec": {
   "display_name": "Python 3 (ipykernel)",
   "language": "python",
   "name": "python3"
  },
  "language_info": {
   "codemirror_mode": {
    "name": "ipython",
    "version": 3
   },
   "file_extension": ".py",
   "mimetype": "text/x-python",
   "name": "python",
   "nbconvert_exporter": "python",
   "pygments_lexer": "ipython3",
   "version": "3.12.4"
  }
 },
 "nbformat": 4,
 "nbformat_minor": 5
}
